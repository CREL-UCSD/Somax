{
 "cells": [
  {
   "cell_type": "markdown",
   "metadata": {},
   "source": [
    "Go to the dashboard (Right click on the \"jupyter\" logo in the upper left corner and open in a new tab) and upload the source file (upload button in the upper right corner).\n",
    "\n",
    "Run the script below. If a button doesn't appear or if the wrong file is listed, you can manually input the filename into the lower script.\n",
    "\n",
    "When building is completed, return to the dashboard and download the new .json files (download each json individually. As far as we know, there is no batch download)."
   ]
  },
  {
   "cell_type": "code",
   "execution_count": null,
   "metadata": {},
   "outputs": [],
   "source": [
    "import ipywidgets as widgets\n",
    "from os import listdir, path\n",
    "files = [filepath for filepath, ext in [(file, path.splitext(file)[1]) for file in listdir(\".\")] if ext in ['.wav','.aif','.aiff','.mid','.midi']]\n",
    "if not files:\n",
    "    print(\"No valid files were found.\")\n",
    "    assert(False)\n",
    "sourceFile = max(files, key=path.getctime)\n",
    "\n",
    "button = widgets.Button(description=\"Process \" + path.splitext(sourceFile)[0])\n",
    "output = widgets.Output()\n",
    "\n",
    "display(button, output)\n",
    "\n",
    "def on_button_clicked(b):\n",
    "    print(\"Building corpus for \" + sourceFile + \"...\")\n",
    "    !python2 mkcorpus/build.py -o . {sourceFile}\n",
    "    print(\"COMPLETED!\")\n",
    "\n",
    "button.on_click(on_button_clicked)"
   ]
  },
  {
   "cell_type": "code",
   "execution_count": null,
   "metadata": {},
   "outputs": [],
   "source": [
    "!python mkcorpus/build.py -o . \"FILE GOES HERE\""
   ]
  }
 ],
 "metadata": {
  "kernelspec": {
   "display_name": "Python 2",
   "language": "python",
   "name": "python2"
  },
  "language_info": {
   "codemirror_mode": {
    "name": "ipython",
    "version": 2
   },
   "file_extension": ".py",
   "mimetype": "text/x-python",
   "name": "python",
   "nbconvert_exporter": "python",
   "pygments_lexer": "ipython2",
   "version": "2.7.16"
  }
 },
 "nbformat": 4,
 "nbformat_minor": 2
}

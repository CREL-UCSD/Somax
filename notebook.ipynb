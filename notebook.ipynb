{
 "cells": [
  {
   "cell_type": "markdown",
   "metadata": {},
   "source": [
    "Run the script below. If a button doesn't appear or if the wrong file is listed, you can manually input the filename into the lower script."
   ]
  },
  {
   "cell_type": "code",
   "execution_count": null,
   "metadata": {},
   "outputs": [],
   "source": [
    "import ipywidgets as widgets\n",
    "from os import listdir, path\n",
    "files = [filepath for filepath, ext in [(file, path.splitext(file)[1]) for file in listdir(\".\")] if ext in ['.wav','.aif','.aiff','.mid','.midi']]\n",
    "if not files:\n",
    "    print(\"No valid files were found.\")\n",
    "    assert(False)\n",
    "sourceFile = max(files, key=path.getctime)\n",
    "\n",
    "button = widgets.Button(description=\"Process \" + path.splitext(sourceFile)[0])\n",
    "output = widgets.Output()\n",
    "\n",
    "display(button, output)\n",
    "\n",
    "def on_button_clicked(b):\n",
    "    print(\"Building corpus for \" + sourceFile + \"...\")\n",
    "    !python mkcorpus/build.py -o . {sourceFile}\n",
    "    print(\"COMPLETED!\")\n",
    "\n",
    "button.on_click(on_button_clicked)"
   ]
  },
  {
   "cell_type": "code",
   "execution_count": null,
   "metadata": {},
   "outputs": [],
   "source": [
    "!python mkcorpus/build.py -o . \"FILE GOES HERE\""
   ]
  }
 ],
 "metadata": {
  "kernelspec": {
   "display_name": "Python 2",
   "language": "python",
   "name": "python2"
  },
  "language_info": {
   "codemirror_mode": {
    "name": "ipython",
    "version": 2
   },
   "file_extension": ".py",
   "mimetype": "text/x-python",
   "name": "python",
   "nbconvert_exporter": "python",
   "pygments_lexer": "ipython2",
   "version": "2.7.16"
  }
 },
 "nbformat": 4,
 "nbformat_minor": 2
}

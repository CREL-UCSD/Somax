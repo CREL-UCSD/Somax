{
 "cells": [
  {
   "cell_type": "code",
   "execution_count": 45,
   "metadata": {},
   "outputs": [
    {
     "data": {
      "application/vnd.jupyter.widget-view+json": {
       "model_id": "aeae464263954b04ad2829164b2d8cf4",
       "version_major": 2,
       "version_minor": 0
      },
      "text/plain": [
       "FileUpload(value={}, accept=u'.wav,.aif,.aiff,.mid,.midi', description=u'Upload')"
      ]
     },
     "metadata": {},
     "output_type": "display_data"
    }
   ],
   "source": [
    "import ipywidgets as widgets\n",
    "x = 3\n",
    "w = widgets.FileUpload(accept='.wav,.aif,.aiff,.mid,.midi', multiple=False)\n",
    "w"
   ]
  },
  {
   "cell_type": "code",
   "execution_count": 49,
   "metadata": {},
   "outputs": [
    {
     "data": {
      "text/plain": [
       "{'_cross_validation_lock': False,\n",
       " '_model_id': u'aeae464263954b04ad2829164b2d8cf4',\n",
       " '_trait_notifiers': {'_counter': {'change': [<traitlets.traitlets.ObserveHandler at 0x54f70f0>]},\n",
       "  'comm': {'change': [<traitlets.traitlets.ObserveHandler at 0x544d0f0>]}},\n",
       " '_trait_validators': {},\n",
       " '_trait_values': {'_counter': 0,\n",
       "  '_display_callbacks': <ipywidgets.widgets.widget.CallbackDispatcher at 0x5457278>,\n",
       "  '_dom_classes': (),\n",
       "  '_model_module': u'@jupyter-widgets/controls',\n",
       "  '_model_module_version': u'1.5.0',\n",
       "  '_model_name': u'FileUploadModel',\n",
       "  '_view_count': None,\n",
       "  '_view_module': u'@jupyter-widgets/controls',\n",
       "  '_view_module_version': u'1.5.0',\n",
       "  '_view_name': u'FileUploadView',\n",
       "  'accept': u'.wav,.aif,.aiff,.mid,.midi',\n",
       "  'button_style': u'',\n",
       "  'comm': <ipykernel.comm.comm.Comm at 0x563aeb8>,\n",
       "  'data': [],\n",
       "  'description': u'Upload',\n",
       "  'description_tooltip': None,\n",
       "  'disabled': False,\n",
       "  'error': u'',\n",
       "  'icon': u'upload',\n",
       "  'keys': ['_view_name',\n",
       "   '_counter',\n",
       "   'style',\n",
       "   'error',\n",
       "   'multiple',\n",
       "   'description',\n",
       "   '_model_name',\n",
       "   '_dom_classes',\n",
       "   'data',\n",
       "   'button_style',\n",
       "   '_view_module',\n",
       "   '_model_module_version',\n",
       "   'accept',\n",
       "   '_view_count',\n",
       "   'disabled',\n",
       "   '_view_module_version',\n",
       "   'description_tooltip',\n",
       "   'layout',\n",
       "   'icon',\n",
       "   '_model_module',\n",
       "   'metadata'],\n",
       "  'layout': Layout(),\n",
       "  'metadata': [],\n",
       "  'multiple': False,\n",
       "  'style': ButtonStyle(),\n",
       "  'value': {}}}"
      ]
     },
     "execution_count": 49,
     "metadata": {},
     "output_type": "execute_result"
    }
   ],
   "source": [
    "w.__dict__"
   ]
  },
  {
   "cell_type": "code",
   "execution_count": 2,
   "metadata": {},
   "outputs": [
    {
     "name": "stderr",
     "output_type": "stream",
     "text": [
      "D:\\Miniconda\\envs\\py2\\lib\\site-packages\\librosa\\__init__.py:35: FutureWarning: You are using librosa with Python 2. Please note that librosa 0.7 will be the last version to support Python 2, after which it will require Python 3 or later.\n",
      "  FutureWarning)\n",
      "[WARNING]: Output folder is not set to default and will likely not be available inside SoMax, is this intentional?\n",
      "To ensure correct behaviour, please either run the script directly inside\n",
      "the corpus folder of SoMax or use the -o option to point to this directory.\n",
      "WARNING:main_log:Output folder is not set to default and will likely not be available inside SoMax, is this intentional?\n",
      "To ensure correct behaviour, please either run the script directly inside\n",
      "the corpus folder of SoMax or use the -o option to point to this directory.\n",
      "[INFO]: Generated file ./debussy.json.\n",
      "INFO:main_log:Generated file ./debussy.json.\n",
      "[INFO]: Generated file ./debussy_h.json.\n",
      "INFO:main_log:Generated file ./debussy_h.json.\n",
      "[INFO]: Generated file ./debussy_m.json.\n",
      "INFO:main_log:Generated file ./debussy_m.json.\n",
      "[INFO]: The following files were written:\n",
      "        ./debussy.json\n",
      "        ./debussy_h.json\n",
      "        ./debussy_m.json\n",
      "INFO:main_log:The following files were written:\n",
      "        ./debussy.json\n",
      "        ./debussy_h.json\n",
      "        ./debussy_m.json\n"
     ]
    }
   ],
   "source": [
    "# Wait for the [INFO] m\n",
    "%run mkcorpus/build.py -o . \"mkcorpus/examples/debussy.mid\""
   ]
  },
  {
   "cell_type": "code",
   "execution_count": 1,
   "metadata": {},
   "outputs": [],
   "source": []
  }
 ],
 "metadata": {
  "kernelspec": {
   "display_name": "Python 2",
   "language": "python",
   "name": "python2"
  },
  "language_info": {
   "codemirror_mode": {
    "name": "ipython",
    "version": 2
   },
   "file_extension": ".py",
   "mimetype": "text/x-python",
   "name": "python",
   "nbconvert_exporter": "python",
   "pygments_lexer": "ipython2",
   "version": "2.7.16"
  }
 },
 "nbformat": 4,
 "nbformat_minor": 2
}

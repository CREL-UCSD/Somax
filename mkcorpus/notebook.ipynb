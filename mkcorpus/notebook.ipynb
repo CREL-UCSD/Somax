{
 "cells": [
  {
   "cell_type": "code",
   "execution_count": 2,
   "metadata": {},
   "outputs": [
    {
     "name": "stderr",
     "output_type": "stream",
     "text": [
      "[WARNING]: Output folder is not set to default and will likely not be available inside SoMax, is this intentional?\n",
      "To ensure correct behaviour, please either run the script directly inside\n",
      "the corpus folder of SoMax or use the -o option to point to this directory.\n",
      "[WARNING]: Output folder is not set to default and will likely not be available inside SoMax, is this intentional?\n",
      "To ensure correct behaviour, please either run the script directly inside\n",
      "the corpus folder of SoMax or use the -o option to point to this directory.\n",
      "[INFO]: Generated file C:\\Users\\origa\\Desktop\\Somax_n\\mkcorpus/debussy.json.\n",
      "[INFO]: Generated file C:\\Users\\origa\\Desktop\\Somax_n\\mkcorpus/debussy.json.\n",
      "[INFO]: Generated file C:\\Users\\origa\\Desktop\\Somax_n\\mkcorpus/debussy_h.json.\n",
      "[INFO]: Generated file C:\\Users\\origa\\Desktop\\Somax_n\\mkcorpus/debussy_h.json.\n",
      "[INFO]: Generated file C:\\Users\\origa\\Desktop\\Somax_n\\mkcorpus/debussy_m.json.\n",
      "[INFO]: Generated file C:\\Users\\origa\\Desktop\\Somax_n\\mkcorpus/debussy_m.json.\n",
      "[INFO]: The following files were written:\n",
      "        C:\\Users\\origa\\Desktop\\Somax_n\\mkcorpus/debussy.json\n",
      "        C:\\Users\\origa\\Desktop\\Somax_n\\mkcorpus/debussy_h.json\n",
      "        C:\\Users\\origa\\Desktop\\Somax_n\\mkcorpus/debussy_m.json\n",
      "[INFO]: The following files were written:\n",
      "        C:\\Users\\origa\\Desktop\\Somax_n\\mkcorpus/debussy.json\n",
      "        C:\\Users\\origa\\Desktop\\Somax_n\\mkcorpus/debussy_h.json\n",
      "        C:\\Users\\origa\\Desktop\\Somax_n\\mkcorpus/debussy_m.json\n"
     ]
    }
   ],
   "source": [
    "# Wait for the [INFO] m\n",
    "%run build.py \"examples/debussy.mid\""
   ]
  },
  {
   "cell_type": "code",
   "execution_count": 1,
   "metadata": {},
   "outputs": [],
   "source": []
  }
 ],
 "metadata": {
  "kernelspec": {
   "display_name": "Python 2",
   "language": "python",
   "name": "python2"
  },
  "language_info": {
   "codemirror_mode": {
    "name": "ipython",
    "version": 2
   },
   "file_extension": ".py",
   "mimetype": "text/x-python",
   "name": "python",
   "nbconvert_exporter": "python",
   "pygments_lexer": "ipython2",
   "version": "2.7.16"
  }
 },
 "nbformat": 4,
 "nbformat_minor": 2
}

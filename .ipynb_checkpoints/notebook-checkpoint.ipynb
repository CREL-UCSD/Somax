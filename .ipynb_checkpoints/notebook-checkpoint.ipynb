{
 "cells": [
  {
   "cell_type": "code",
   "execution_count": 22,
   "metadata": {},
   "outputs": [],
   "source": [
    "import ipywidgets as widgets"
   ]
  },
  {
   "cell_type": "code",
   "execution_count": 34,
   "metadata": {},
   "outputs": [
    {
     "data": {
      "application/vnd.jupyter.widget-view+json": {
       "model_id": "b373cbe006164349a9950c52b7486760",
       "version_major": 2,
       "version_minor": 0
      },
      "text/plain": [
       "FileUpload(value={}, description=u'Upload')"
      ]
     },
     "metadata": {},
     "output_type": "display_data"
    }
   ],
   "source": [
    "w = widgets.FileUpload(accept='.wav,.aif,.aiff,.mid,.midi', multiple=False)\n",
    "w"
   ]
  },
  {
   "cell_type": "code",
   "execution_count": 35,
   "metadata": {},
   "outputs": [
    {
     "data": {
      "text/plain": [
       "{}"
      ]
     },
     "execution_count": 35,
     "metadata": {},
     "output_type": "execute_result"
    }
   ],
   "source": [
    "w.value"
   ]
  },
  {
   "cell_type": "code",
   "execution_count": 2,
   "metadata": {},
   "outputs": [
    {
     "name": "stderr",
     "output_type": "stream",
     "text": [
      "D:\\Miniconda\\envs\\py2\\lib\\site-packages\\librosa\\__init__.py:35: FutureWarning: You are using librosa with Python 2. Please note that librosa 0.7 will be the last version to support Python 2, after which it will require Python 3 or later.\n",
      "  FutureWarning)\n",
      "[WARNING]: Output folder is not set to default and will likely not be available inside SoMax, is this intentional?\n",
      "To ensure correct behaviour, please either run the script directly inside\n",
      "the corpus folder of SoMax or use the -o option to point to this directory.\n",
      "WARNING:main_log:Output folder is not set to default and will likely not be available inside SoMax, is this intentional?\n",
      "To ensure correct behaviour, please either run the script directly inside\n",
      "the corpus folder of SoMax or use the -o option to point to this directory.\n",
      "[INFO]: Generated file ./debussy.json.\n",
      "INFO:main_log:Generated file ./debussy.json.\n",
      "[INFO]: Generated file ./debussy_h.json.\n",
      "INFO:main_log:Generated file ./debussy_h.json.\n",
      "[INFO]: Generated file ./debussy_m.json.\n",
      "INFO:main_log:Generated file ./debussy_m.json.\n",
      "[INFO]: The following files were written:\n",
      "        ./debussy.json\n",
      "        ./debussy_h.json\n",
      "        ./debussy_m.json\n",
      "INFO:main_log:The following files were written:\n",
      "        ./debussy.json\n",
      "        ./debussy_h.json\n",
      "        ./debussy_m.json\n"
     ]
    }
   ],
   "source": [
    "# Wait for the [INFO] m\n",
    "%run mkcorpus/build.py -o . \"mkcorpus/examples/debussy.mid\""
   ]
  },
  {
   "cell_type": "code",
   "execution_count": 1,
   "metadata": {},
   "outputs": [],
   "source": []
  }
 ],
 "metadata": {
  "kernelspec": {
   "display_name": "Python 2",
   "language": "python",
   "name": "python2"
  },
  "language_info": {
   "codemirror_mode": {
    "name": "ipython",
    "version": 2
   },
   "file_extension": ".py",
   "mimetype": "text/x-python",
   "name": "python",
   "nbconvert_exporter": "python",
   "pygments_lexer": "ipython2",
   "version": "2.7.16"
  }
 },
 "nbformat": 4,
 "nbformat_minor": 2
}
